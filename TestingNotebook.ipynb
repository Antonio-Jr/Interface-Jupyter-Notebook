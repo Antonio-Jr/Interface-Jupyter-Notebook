{
 "cells": [
  {
   "cell_type": "code",
   "execution_count": 1,
   "metadata": {
    "scrolled": false
   },
   "outputs": [
    {
     "name": "stdout",
     "output_type": "stream",
     "text": [
      "/home/junior/PycharmProjects/lia-pln-notebooks-master/shortdoc_class/distant_supervision/log\n"
     ]
    },
    {
     "data": {
      "text/html": [
       "\n",
       "            <style> \n",
       "            /*.container{\n",
       "                    width: 98%;\n",
       "                }*/\n",
       "        \n",
       "            .output{\n",
       "                height:100%;\n",
       "                }\n",
       "        \n",
       "            .output_scroll{\n",
       "                height: 100%;\n",
       "                }\n",
       "        \n",
       "            .widget-label{\n",
       "                    height: 100px;\n",
       "                    white-space: wrap;\n",
       "                    font-weight: bold;\n",
       "                    font-size: 16px;\n",
       "                    text-align: left;\n",
       "                    }\n",
       "        \n",
       "            .widget-checkbox {\n",
       "                    width: 90%;\n",
       "                }\n",
       "        \n",
       "            .space{\n",
       "                text-align: left;\n",
       "                font-size: 13px;\n",
       "                }\n",
       "                \n",
       "            .space-checkBox{\n",
       "                text-align: left;\n",
       "                font-size: 13px;\n",
       "                margin-left: 3%;\n",
       "                }\n",
       "        \n",
       "            .vazio{\n",
       "                color: red;\n",
       "                font-size: 12px;\n",
       "                text-align: left;\n",
       "                }\n",
       "            \n",
       "            .center{\n",
       "                text-align: center;\n",
       "                font-size: 17px;\n",
       "                }\n",
       "                \n",
       "            .blue{\n",
       "                color: blue;\n",
       "                font-size: 11.5px;\n",
       "                }\n",
       "        \n",
       "            .vertical-line{\n",
       "                border-right: 1px groove black;\n",
       "                }\n",
       "        \n",
       "            .horizontal-line{\n",
       "                border-bottom: 1px groove black;\n",
       "                }\n",
       "        \n",
       "            .top-line{\n",
       "                border-top: 1px groove black;\n",
       "                }\n",
       "            .border{\n",
       "                border: 1px groove black;\n",
       "                border-radius: 5px;\n",
       "                }\n",
       "            </style>"
      ],
      "text/plain": [
       "<IPython.core.display.HTML object>"
      ]
     },
     "metadata": {},
     "output_type": "display_data"
    },
    {
     "data": {
      "application/vnd.jupyter.widget-view+json": {
       "model_id": "dd86149d8ad24188bb519d2375fb75e6",
       "version_major": 2,
       "version_minor": 0
      },
      "text/html": [
       "<p>Failed to display Jupyter Widget of type <code>VBox</code>.</p>\n",
       "<p>\n",
       "  If you're reading this message in Jupyter Notebook or JupyterLab, it may mean\n",
       "  that the widgets JavaScript is still loading. If this message persists, it\n",
       "  likely means that the widgets JavaScript library is either not installed or\n",
       "  not enabled. See the <a href=\"https://ipywidgets.readthedocs.io/en/stable/user_install.html\">Jupyter\n",
       "  Widgets Documentation</a> for setup instructions.\n",
       "</p>\n",
       "<p>\n",
       "  If you're reading this message in another notebook frontend (for example, a static\n",
       "  rendering on GitHub or <a href=\"https://nbviewer.jupyter.org/\">NBViewer</a>),\n",
       "  it may mean that your frontend doesn't currently support widgets.\n",
       "</p>\n"
      ],
      "text/plain": [
       "VBox(children=(Label(value=u'Foram encontrados 7 arquivos.', _dom_classes=('center',)), Label(value=u'Filtros', description=u'Filtros', layout=Layout(align_self=u'center', width=u'100%')), HBox(children=(Label(value=u'Caracteristicas Unicas', description=u'Caracteristicas Unicas', layout=Layout(align_self=u'flex-start', width=u'100%')), Button(icon=u'angle-double-up', layout=Layout(align_self=u'flex-end', display=u'flex-wrap', width=u'40px'), style=ButtonStyle(button_color='white'), tooltip=u'Collapse'))), HBox(children=(Label(value=u'start_symbol: </s>', description=u'</s>', style=DescriptionStyle(description_width=u'initial'), _dom_classes=('space', 'blue')), Label(value=u'shuffle: True', description=u'True', style=DescriptionStyle(description_width=u'initial'), _dom_classes=('space', 'blue')), Label(value=u'end_symbol: </s>', description=u'</s>', style=DescriptionStyle(description_width=u'initial'), _dom_classes=('space', 'blue')), Label(value=u'alg: adagrad', description=u'adagrad', style=DescriptionStyle(description_width=u'initial'), _dom_classes=('space', 'blue')), Label(value=u\"labels: [u'P', u'N']\", description=u\"[u'P', u'N']\", style=DescriptionStyle(description_width=u'initial'), _dom_classes=('space', 'blue')), Label(value=u'seed: 13', description=u'13', style=DescriptionStyle(description_width=u'initial'), _dom_classes=('space', 'blue')), Label(value=u\"filters: [u'data.Filters.TransformLowerCaseFilter', u'data.Filters.TransformNumberToZeroFilter']\", description=u\"[u'data.Filters.TransformLowerCaseFilter', u'data.Filters.TransformNumberToZeroFilter']\", style=DescriptionStyle(description_width=u'initial'), _dom_classes=('space', 'blue')), Label(value=u'num_epochs: 50', description=u'50', style=DescriptionStyle(description_width=u'initial'), _dom_classes=('space', 'blue')), Label(value=u'word_emb_size: 100', description=u'100', style=DescriptionStyle(description_width=u'initial'), _dom_classes=('space', 'blue')), Label(value=u'load_method: sync', description=u'sync', style=DescriptionStyle(description_width=u'initial'), _dom_classes=('space', 'blue')), Label(value=u'decay: none', description=u'none', style=DescriptionStyle(description_width=u'initial'), _dom_classes=('space', 'blue')), Label(value=u'fix_word_embedding: False', description=u'False', style=DescriptionStyle(description_width=u'initial'), _dom_classes=('space', 'blue')), Label(value=u'test: test.txt', description=u'test.txt', style=DescriptionStyle(description_width=u'initial'), _dom_classes=('space', 'blue')), Label(value=u'hidden_size: 300', description=u'300', style=DescriptionStyle(description_width=u'initial'), _dom_classes=('space', 'blue')), Label(value=u'word_embedding: w2v.txt', description=u'w2v.txt', style=DescriptionStyle(description_width=u'initial'), _dom_classes=('space', 'blue')), Label(value=u'word_lexicon: None', description=u'None', style=DescriptionStyle(description_width=u'initial'), _dom_classes=('space', 'blue')), Label(value=u'conv_size: 50', description=u'50', style=DescriptionStyle(description_width=u'initial'), _dom_classes=('space', 'blue')), Label(value=u'train: train.txt', description=u'train.txt', style=DescriptionStyle(description_width=u'initial'), _dom_classes=('space', 'blue')), Label(value=u'word_window_size: 5', description=u'5', style=DescriptionStyle(description_width=u'initial'), _dom_classes=('space', 'blue')), Label(value=u'normalization: minmax', description=u'minmax', style=DescriptionStyle(description_width=u'initial'), _dom_classes=('space', 'blue')), Label(value=u'label_weights: [1.0, 1.0]', description=u'[1.0, 1.0]', style=DescriptionStyle(description_width=u'initial'), _dom_classes=('space', 'blue')), Label(value=u'dev: dev.txt', description=u'dev.txt', style=DescriptionStyle(description_width=u'initial'), _dom_classes=('space', 'blue')), Label(value=u'label_lexicon: None', description=u'None', style=DescriptionStyle(description_width=u'initial'), _dom_classes=('space', 'blue'))), layout=Layout(align_self=u'center', display=u'inline-flex', flex_flow=u'column', width=u'95%')), Label(value=u'Caracteristicas Multiplas', description=u'Caracteristicas Multiplas', layout=Layout(align_self=u'flex-start', width=u'91%'), _dom_classes=('top-line',)), VBox(children=(Label(value=u'Eval_per_iteration', description=u'Eval_per_iteration', layout=Layout(align_self=u'center', width=u'95%'), _dom_classes=('space',)), HBox(children=(Checkbox(value=False, description=u'0', indent=False, style=DescriptionStyle(description_width=u'eval_per_iteration'), _dom_classes=('space-checkBox',)), Checkbox(value=False, description=u'100', indent=False, style=DescriptionStyle(description_width=u'eval_per_iteration'), _dom_classes=('space-checkBox',))), layout=Layout(display=u'inline-flex', flex_flow=u'column', width=u'100%')), Label(value=u'Lr', description=u'Lr', layout=Layout(align_self=u'center', width=u'95%'), _dom_classes=('space',)), HBox(children=(Checkbox(value=False, description=u'0.005', indent=False, style=DescriptionStyle(description_width=u'lr'), _dom_classes=('space-checkBox',)), Checkbox(value=False, description=u'0.01', indent=False, style=DescriptionStyle(description_width=u'lr'), _dom_classes=('space-checkBox',)), Checkbox(value=False, description=u'0.015', indent=False, style=DescriptionStyle(description_width=u'lr'), _dom_classes=('space-checkBox',)), Checkbox(value=False, description=u'0.025', indent=False, style=DescriptionStyle(description_width=u'lr'), _dom_classes=('space-checkBox',)), Checkbox(value=False, description=u'0.05', indent=False, style=DescriptionStyle(description_width=u'lr'), _dom_classes=('space-checkBox',))), layout=Layout(display=u'inline-flex', flex_flow=u'column', width=u'100%'))), layout=Layout(display=u'flex', width=u'90%')), Button(button_style=u'primary', description=u'Aplicar Filtros', icon=u'paper-plane', layout=Layout(align_self=u'flex-end', display=u'flex-wrap'), style=ButtonStyle(button_color='#009850'))), layout=Layout(align_self=u'center', width=u'100%'))"
      ]
     },
     "metadata": {},
     "output_type": "display_data"
    },
    {
     "data": {
      "text/plain": [
       "'Os arquivos estao salvos na varivel finded. Para visualizar solicite a impressao da mesma. Caso queira exibir na caixa de dialogo, invoque o metodo exibeFiltrados.'"
      ]
     },
     "metadata": {},
     "output_type": "display_data"
    }
   ],
   "source": [
    "from renderJson import RenderJSON\n",
    "from filterPanel import BuildFilterPanel\n",
    "fp = BuildFilterPanel('/home/junior/PycharmProjects/lia-pln-notebooks-master/shortdoc_class/distant_supervision/log')"
   ]
  },
  {
   "cell_type": "code",
   "execution_count": 2,
   "metadata": {
    "scrolled": false
   },
   "outputs": [
    {
     "data": {
      "application/vnd.jupyter.widget-view+json": {
       "model_id": "f1d278342f914916a1ee5599c4641f3d",
       "version_major": 2,
       "version_minor": 0
      },
      "text/html": [
       "<p>Failed to display Jupyter Widget of type <code>VBox</code>.</p>\n",
       "<p>\n",
       "  If you're reading this message in Jupyter Notebook or JupyterLab, it may mean\n",
       "  that the widgets JavaScript is still loading. If this message persists, it\n",
       "  likely means that the widgets JavaScript library is either not installed or\n",
       "  not enabled. See the <a href=\"https://ipywidgets.readthedocs.io/en/stable/user_install.html\">Jupyter\n",
       "  Widgets Documentation</a> for setup instructions.\n",
       "</p>\n",
       "<p>\n",
       "  If you're reading this message in another notebook frontend (for example, a static\n",
       "  rendering on GitHub or <a href=\"https://nbviewer.jupyter.org/\">NBViewer</a>),\n",
       "  it may mean that your frontend doesn't currently support widgets.\n",
       "</p>\n"
      ],
      "text/plain": [
       "VBox(children=(SelectMultiple(layout=Layout(align_items=u'inherit', display=u'flex', flex_flow=u'column', visibility=u'visible', width=u'99.5%'), options=('lr0.005.log',), value=()), Button(button_style=u'primary', description=u'Aplicar', icon=u'check-circle', layout=Layout(align_self=u'flex-end', display=u'flex-end'), style=ButtonStyle(button_color='#009850'))))"
      ]
     },
     "metadata": {},
     "output_type": "display_data"
    },
    {
     "name": "stdout",
     "output_type": "stream",
     "text": [
      "lr0.005.log\n"
     ]
    },
    {
     "data": {
      "text/html": [
       "<div id=\"ba9b24ae-aa2c-4763-af09-dfc4f519c3c4\" style=\"height: 600px; width:100%;\"></div>"
      ]
     },
     "metadata": {},
     "output_type": "display_data"
    },
    {
     "data": {
      "application/javascript": [
       "require([\"renderjson/renderjson.js\"], function() {document.getElementById('ba9b24ae-aa2c-4763-af09-dfc4f519c3c4').appendChild(renderjson({\"message\": {\"duration\": null, \"values\": {\"loss\": null, \"truePositives\": null, \"numExamples\": null, \"falseNegatives\": null, \"macro\": {\"recall\": null, \"precision\": null, \"f\": null}, \"accumLoss\": null, \"perLabel\": {\"truePositives\": {\"1\": null, \"0\": null}, \"f\": {\"1\": null, \"0\": null}, \"recall\": {\"1\": null, \"0\": null}, \"precision\": {\"1\": null, \"0\": null}, \"falseNegatives\": {\"1\": null, \"0\": null}, \"falsePositives\": {\"1\": null, \"0\": null}}, \"micro\": {\"recall\": null, \"precision\": null, \"f\": null}, \"beta\": null, \"accumAccuracy\": null, \"numLabels\": null, \"falsePositives\": null, \"accuracy\": null}, \"epoch\": null, \"iteration\": null}}))\n",
       "        });\n",
       "        "
      ]
     },
     "metadata": {},
     "output_type": "display_data"
    }
   ],
   "source": [
    "fp.exibeFiltrados(fp.finded)"
   ]
  }
 ],
 "metadata": {
  "kernelspec": {
   "display_name": "Python 2",
   "language": "python2",
   "name": "python2"
  },
  "language_info": {
   "codemirror_mode": {
    "name": "ipython",
    "version": 2
   },
   "file_extension": ".py",
   "mimetype": "text/x-python",
   "name": "python",
   "nbconvert_exporter": "python",
   "pygments_lexer": "ipython2",
   "version": "2.7.14"
  }
 },
 "nbformat": 4,
 "nbformat_minor": 2
}
