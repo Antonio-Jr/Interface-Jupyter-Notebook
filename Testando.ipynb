{
 "cells": [
  {
   "cell_type": "code",
   "execution_count": 1,
   "metadata": {
    "scrolled": true
   },
   "outputs": [
    {
     "data": {
      "application/javascript": [
       "$('.IntSlider').val()"
      ],
      "text/plain": [
       "<IPython.core.display.Javascript object>"
      ]
     },
     "metadata": {},
     "output_type": "display_data"
    },
    {
     "data": {
      "application/vnd.jupyter.widget-view+json": {
       "model_id": "b34c0f21c7254f1d8377140422c0bdba",
       "version_major": 2,
       "version_minor": 0
      },
      "text/html": [
       "<p>Failed to display Jupyter Widget of type <code>Box</code>.</p>\n",
       "<p>\n",
       "  If you're reading this message in Jupyter Notebook or JupyterLab, it may mean\n",
       "  that the widgets JavaScript is still loading. If this message persists, it\n",
       "  likely means that the widgets JavaScript library is either not installed or\n",
       "  not enabled. See the <a href=\"https://ipywidgets.readthedocs.io/en/stable/user_install.html\">Jupyter\n",
       "  Widgets Documentation</a> for setup instructions.\n",
       "</p>\n",
       "<p>\n",
       "  If you're reading this message in another notebook frontend (for example, a static\n",
       "  rendering on GitHub or <a href=\"https://nbviewer.jupyter.org/\">NBViewer</a>),\n",
       "  it may mean that your frontend doesn't currently support widgets.\n",
       "</p>\n"
      ],
      "text/plain": [
       "Box(children=(Box(children=(Label(value=u'Learning Rate'), FloatSlider(value=0.0, layout=Layout(display=u'flex', flex_flow=u'row', justify_content=u'space-between'), max=1.0, step=0.01, style=SliderStyle(description_width=u'initial'))), layout=Layout(display=u'flex', flex_flow=u'row', justify_content=u'space-between')), Box(children=(Label(value=u'Epoch'), IntSlider(value=0, layout=Layout(display=u'flex', flex_flow=u'row', justify_content=u'space-between'), step=5)), layout=Layout(display=u'flex', flex_flow=u'row', justify_content=u'space-between')), Box(children=(Label(value=u'Arquivos'), Dropdown(options=('Arquivo_1', 'Arquivo_2', 'Arquivo_3'), value='Arquivo_1')), layout=Layout(display=u'flex', flex_flow=u'row', justify_content=u'space-between')), Box(children=(Label(value=u'Valor do Slider'), BoundedFloatText(value=0.0, layout=Layout(display=u'flex', flex_flow=u'row', justify_content=u'space-between'), style=DescriptionStyle(description_width=u'initial'))), layout=Layout(display=u'flex', flex_flow=u'row', justify_content=u'space-between')), Box(children=(Label(value=u'Login'), Text(value=u'', placeholder=u'Digite o Login')), layout=Layout(display=u'flex', flex_flow=u'row', justify_content=u'space-between')), Box(children=(Label(value=u'', description=u'Enviar'), Button(description=u'Enviar', disabled=True, style=ButtonStyle())), layout=Layout(display=u'flex', flex_flow=u'row', justify_content=u'space-between'))), layout=Layout(align_items=u'stretch', border=u'solid 1px', display=u'flex', flex_flow=u'column', width=u'50%'))"
      ]
     },
     "metadata": {},
     "output_type": "display_data"
    },
    {
     "data": {
      "text/html": [
       "<style> .widget-area{widht: 1300px !important;}</style>"
      ],
      "text/plain": [
       "<IPython.core.display.HTML object>"
      ]
     },
     "metadata": {},
     "output_type": "display_data"
    }
   ],
   "source": [
    "#%load test_notebook.py\n",
    "from __future__ import print_function\n",
    "from ipywidgets import interact, interactive, fixed, interact_manual, widgets, Layout\n",
    "from IPython.display import display as dp, HTML, Javascript\n",
    "from functools import partial\n",
    "import traitlets as tr\n",
    "from ipywidgets import Layout, Button, Box, FloatText, Textarea, Dropdown, Label, IntSlider, FloatSlider\n",
    "\n",
    "form_item_layout = Layout(\n",
    "    display='flex',\n",
    "    flex_flow='row',\n",
    "    justify_content='space-between'\n",
    ")\n",
    "\n",
    "style = {'description_width': 'initial'} \n",
    "button = widgets.Button(description=\"Enviar\")#, tooltip='Enviar o formulário')\n",
    "text = widgets.Text(placeholder='Digite o Login')\n",
    "hBox = widgets.HBox([text, button])\n",
    "sliValue = widgets.BoundedFloatText(style=style, layout=form_item_layout)\n",
    "slider =  widgets.FloatSlider(max=1, min=0, value=0, step=0.01, style=style, layout=form_item_layout, continuous_update=True) \n",
    "epoch = widgets.IntSlider(max=100, min=0, value=0, step=5, layout=form_item_layout, SliderStyle=style, continuous_update=True)\n",
    "button.disabled = True\n",
    "\n",
    "\"\"\"def somefn(parameter1):\n",
    "     #print(parameter1['new'])\n",
    "     #print(parameter1)\n",
    "     atualiza(slider.value)\n",
    "     #print (sliValue.value)\n",
    "    #print (\"parameter1: {}\".format(parameter1))\n",
    "    \n",
    "def atualiza(val):\n",
    "    sliValue.value = val\"\"\"\n",
    "    \n",
    "def f(x):\n",
    "    return x\n",
    "    \n",
    "def clicked_button(b):\n",
    "    print(text.value, '\\nEnviado!')\n",
    "    \n",
    "def on_input(change):\n",
    "    if(change['new'] != None and not change['new'].isspace()):\n",
    "        button.disabled = False\n",
    "    else:\n",
    "        button.disabled = True\n",
    "        \n",
    "tr.link((slider, \"value\"), (sliValue, \"value\"))\n",
    "    \n",
    "#j = interactive(f, x=(0,10));\n",
    "button.on_click(clicked_button)\n",
    "\"\"\"vBox = widgets.VBox([slider, epoch])\n",
    "dp(widgets.VBox([hBox, vBox]))\n",
    "dp(sliValue)\"\"\"\n",
    "\n",
    "form_items = [\n",
    "    Box([Label(value='Learning Rate'), slider], layout=form_item_layout),\n",
    "    Box([Label(value='Epoch'), epoch], layout=form_item_layout),\n",
    "    Box([Label(value=\"Arquivos\"), Dropdown(options=['Arquivo_1', 'Arquivo_2', 'Arquivo_3'])], layout=form_item_layout),\n",
    "    Box([Label(value=\"Valor do Slider\"),sliValue], layout=form_item_layout),\n",
    "    Box([Label(value=\"Login\"), text], layout=form_item_layout),\n",
    "    Box([Label(description='Enviar'), button], layout=form_item_layout)\n",
    "]\n",
    "\n",
    "\n",
    "form = Box(form_items, layout=Layout(\n",
    "    display='flex',\n",
    "    flex_flow='column',\n",
    "    border='solid 1px',\n",
    "    align_items='stretch',\n",
    "    width='50%'\n",
    "))\n",
    "form\n",
    "\n",
    "\n",
    "text.observe(on_input, names=\"value\")\n",
    "dp(Javascript(\"$('.IntSlider').val()\"))\n",
    "dp(form)\n",
    "css = \"\"\"<style> .widget-area{widht: 1300px !important;}</style>\"\"\"\n",
    "dp(HTML(css))"
   ]
  },
  {
   "cell_type": "code",
   "execution_count": 2,
   "metadata": {},
   "outputs": [
    {
     "ename": "ImportError",
     "evalue": "No module named sqlalchemy",
     "output_type": "error",
     "traceback": [
      "\u001b[0;31m---------------------------------------------------------------------------\u001b[0m",
      "\u001b[0;31mImportError\u001b[0m                               Traceback (most recent call last)",
      "\u001b[0;32m<ipython-input-2-5ad4a1b1e4c7>\u001b[0m in \u001b[0;36m<module>\u001b[0;34m()\u001b[0m\n\u001b[1;32m      7\u001b[0m \u001b[0;34m\u001b[0m\u001b[0m\n\u001b[1;32m      8\u001b[0m \u001b[0;31m# Will need this for our backend\u001b[0m\u001b[0;34m\u001b[0m\u001b[0;34m\u001b[0m\u001b[0m\n\u001b[0;32m----> 9\u001b[0;31m \u001b[0;32mfrom\u001b[0m \u001b[0msqlalchemy\u001b[0m \u001b[0;32mimport\u001b[0m \u001b[0mtable\u001b[0m\u001b[0;34m,\u001b[0m \u001b[0mMetaData\u001b[0m\u001b[0;34m,\u001b[0m \u001b[0mselect\u001b[0m\u001b[0;34m\u001b[0m\u001b[0m\n\u001b[0m\u001b[1;32m     10\u001b[0m \u001b[0;34m\u001b[0m\u001b[0m\n\u001b[1;32m     11\u001b[0m \u001b[0;31m# Our old friends\u001b[0m\u001b[0;34m\u001b[0m\u001b[0;34m\u001b[0m\u001b[0m\n",
      "\u001b[0;31mImportError\u001b[0m: No module named sqlalchemy"
     ]
    }
   ],
   "source": [
    "\n",
    "# IPython powertools\n",
    "from IPython.display import clear_output, HTML, display, Javascript\n",
    "\n",
    "# The project formally known as IPython.widgets\n",
    "import ipywidgets as widgets\n",
    "\n",
    "# Will need this for our backend\n",
    "from sqlalchemy import table, MetaData, select\n",
    "\n",
    "# Our old friends\n",
    "import pandas as pd\n",
    "import numpy as np\n",
    "\n",
    "import qgrid\n",
    "qgrid.nbinstall()\n",
    "\n",
    "import pyfolio\n",
    "\n",
    "cells_visable = True\n",
    "def toggle_code_cells(btn):\n",
    "    global cells_visable\n",
    "    if cells_visable:\n",
    "        display(Javascript(\"$('div.input').hide();\"))\n",
    "        btn.description = \"Show Code Cells\"\n",
    "    else:\n",
    "        display(Javascript(\"$('div.input').show();\"))\n",
    "        btn.description = \"Hide Code Cells\"\n",
    "    cells_visable = not cells_visable\n",
    "    \n",
    "\n",
    "toggle_btn = widgets.Button(description=\"Hide Code Cells\")\n",
    "toggle_btn.on_click(toggle_code_cells)\n",
    "css =\"\"\"<style> .container { width:95% !important; } </style>\"\"\"\n",
    "display(HTML(css))\n",
    "Javascript(\"$('button').removeClass()\")\n",
    "display(toggle_btn)"
   ]
  },
  {
   "cell_type": "code",
   "execution_count": 15,
   "metadata": {},
   "outputs": [
    {
     "name": "stdout",
     "output_type": "stream",
     "text": [
      "[]\n"
     ]
    }
   ],
   "source": [
    "import os\n",
    "\n",
    "def encontraArquivosEmPastaRecursivamente(pasta, extensao):\n",
    "     arquivosTxt = []\n",
    "     caminhoAbsoluto = os.path.abspath(pasta)\n",
    "     for pastaAtual, subPastas, arquivos  in os.walk(caminhoAbsoluto):\n",
    "         arquivosTxt.extend([os.path.join(pastaAtual,arquivo) for arquivo in arquivos if arquivo.endswith('.json')])\n",
    "     return arquivosTxt\n",
    "\n",
    "print (encontraArquivosEmPastaRecursivamente('/home/junior/PycharmProjects/', '.json'))\n",
    "\n"
   ]
  },
  {
   "cell_type": "code",
   "execution_count": 28,
   "metadata": {
    "collapsed": true
   },
   "outputs": [],
   "source": [
    "js = \"\"\"\n",
    "<script type=\"text/Javascript\">\n",
    "function teste(){\n",
    "        //alert(\"Botão clicado!\");\n",
    "        verifica();\n",
    "    }\n",
    "    \n",
    "function verifica(obj){\n",
    "    //alert(document.getElementById('name').value);\n",
    "    val = obj.value;\n",
    "    alert(val);\n",
    "    if(val == undefined || val == ''){\n",
    "        alert('Digite um nome!');\n",
    "        return false;\n",
    "    }else{\n",
    "        alert('O nome '+val+' foi enviado.');\n",
    "    }\n",
    "}\n",
    "</script>   \n",
    "\"\"\""
   ]
  },
  {
   "cell_type": "code",
   "execution_count": 5,
   "metadata": {},
   "outputs": [
    {
     "ename": "SyntaxError",
     "evalue": "invalid syntax (<ipython-input-5-a22cc67f5486>, line 5)",
     "output_type": "error",
     "traceback": [
      "\u001b[0;36m  File \u001b[0;32m\"<ipython-input-5-a22cc67f5486>\"\u001b[0;36m, line \u001b[0;32m5\u001b[0m\n\u001b[0;31m    async def f():\u001b[0m\n\u001b[0m            ^\u001b[0m\n\u001b[0;31mSyntaxError\u001b[0m\u001b[0;31m:\u001b[0m invalid syntax\n"
     ]
    }
   ],
   "source": [
    "import asyncio\n",
    "from ipywidgets import IntSlider\n",
    "slider = IntSlider()\n",
    "\n",
    "async def f():\n",
    "    for i in range(10):\n",
    "        print('did work %s'%i)\n",
    "        x = await wait_for_change(slider, 'value')\n",
    "        print('async function continued with value %s'%x)\n",
    "asyncio.ensure_future(f())\n",
    "\n",
    "slider"
   ]
  },
  {
   "cell_type": "code",
   "execution_count": null,
   "metadata": {
    "collapsed": true
   },
   "outputs": [],
   "source": [
    "from functools import wraps\n",
    "def yield_for_change(widget, attribute):\n",
    "    \"\"\"Pause a generator to wait for a widget change event.\n",
    "\n",
    "    This is a decorator for a generator function which pauses the generator on yield\n",
    "    until the given widget attribute changes. The new value of the attribute is\n",
    "    sent to the generator and is the value of the yield.\n",
    "    \"\"\"\n",
    "    def f(iterator):\n",
    "        @wraps(iterator)\n",
    "        def inner():\n",
    "            i = iterator()\n",
    "            def next_i(change):\n",
    "                try:\n",
    "                    i.send(change.new)\n",
    "                except StopIteration as e:\n",
    "                    widget.unobserve(next_i, attribute)\n",
    "            widget.observe(next_i, attribute)\n",
    "            # start the generator\n",
    "            next(i)\n",
    "        return inner\n",
    "    return f\n",
    "\n",
    "from ipywidgets import IntSlider, VBox, HTML\n",
    "slider2=IntSlider()\n",
    "\n",
    "@yield_for_change(slider2, 'value')\n",
    "def f():\n",
    "    for i in range(slider2.max * 2):\n",
    "        print('did work %s'%i)\n",
    "        x = yield\n",
    "        print('generator function continued with value %s'%x)\n",
    "f()\n",
    "\n",
    "slider2"
   ]
  }
 ],
 "metadata": {
  "kernelspec": {
   "display_name": "Python 2",
   "language": "python2",
   "name": "python2"
  },
  "language_info": {
   "codemirror_mode": {
    "name": "ipython",
    "version": 2
   },
   "file_extension": ".py",
   "mimetype": "text/x-python",
   "name": "python",
   "nbconvert_exporter": "python",
   "pygments_lexer": "ipython2",
   "version": "2.7.14"
  }
 },
 "nbformat": 4,
 "nbformat_minor": 2
}
