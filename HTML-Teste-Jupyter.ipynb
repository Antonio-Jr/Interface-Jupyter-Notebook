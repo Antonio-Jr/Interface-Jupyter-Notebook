{
 "cells": [
  {
   "cell_type": "code",
   "execution_count": 7,
   "metadata": {},
   "outputs": [],
   "source": [
    "from IPython.display import HTML, Javascript, display\n",
    "\n",
    "html = \"\"\"<!DOCTYPE html>\n",
    "<html lang=\"pt-br\">\n",
    "<head>\n",
    "    <meta charset=\"UTF-8\">\n",
    "    <title>Jupyter HomeWork</title>\n",
    "</head>\n",
    "<body>\n",
    "    <fieldset>\n",
    "        <legend>Configurações de Plotagem</legend>\n",
    "        Learning Rate:\n",
    "        <select name=\"lr\">\n",
    "            <option>0.1</option>\n",
    "            <option>0.01</option>\n",
    "            <option>0.001</option>\n",
    "            <option>0.0001</option>\n",
    "        </select>\n",
    "        Epoch:\n",
    "        <select name=\"epoch\">\n",
    "            <option>1</option>\n",
    "            <option>2</option>\n",
    "            <option>3</option>\n",
    "            <option>4</option>\n",
    "        </select>\n",
    "    </fieldset>\n",
    "</body>\n",
    "</html>\"\"\"\n",
    "\n",
    "display(HTML(html))"
   ]
  }
 ],
 "metadata": {
  "kernelspec": {
   "display_name": "Python 3",
   "language": "python",
   "name": "python3"
  },
  "language_info": {
   "codemirror_mode": {
    "name": "ipython",
    "version": 3
   },
   "file_extension": ".py",
   "mimetype": "text/x-python",
   "name": "python",
   "nbconvert_exporter": "python",
   "pygments_lexer": "ipython3",
   "version": "3.6.1"
  }
 },
 "nbformat": 4,
 "nbformat_minor": 2
}
