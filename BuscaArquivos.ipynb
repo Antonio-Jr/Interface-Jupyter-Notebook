{
 "cells": [
  {
   "cell_type": "code",
   "execution_count": 9,
   "metadata": {},
   "outputs": [
    {
     "data": {
      "text/html": [
       "<!DOCTYPE html>\n",
       "<html>\n",
       "<title>W3.CSS</title>\n",
       "<meta name=\"viewport\" content=\"width=device-width, initial-scale=1\">\n",
       "<link rel=\"stylesheet\" href=\"https://www.w3schools.com/w3css/4/w3.css\">\n",
       "<style>\n",
       ".container{\n",
       "    width: 98%;\n",
       "}\n",
       "</style>\n",
       "<body>\n",
       "\n",
       "<!-- Sidebar -->\n",
       "<div class=\"w3-sidebar w3-light-grey w3-bar-block\" style=\"width:25%; display:block; background-color:black;\">\n",
       "  <h3 class=\"w3-bar-item\">Menu</h3>\n",
       "    <span id=\"teste\">Teste</span>\n",
       "    <a href=\"#\" class=\"w3-bar-item w3-button\">Link 1</a>\n",
       "    <a href=\"#\" class=\"w3-bar-item w3-button\">Link 2</a>\n",
       "    <a href=\"#\" class=\"w3-bar-item w3-button\">Link 3</a>\n",
       "</div>\n",
       "\n",
       "<!-- Page Content -->\n",
       "<div style=\"margin-left:25%\">\n",
       "\n",
       "<div class=\"w3-container w3-teal\">\n",
       "  <h1>Jupyter Application</h1>\n",
       "</div>\n",
       "\n",
       "<img src=\"https://www.google.com/logos/google.jpg\" alt=\"Google\" style=\"width:100%\">\n",
       "\n",
       "<div class=\"w3-container\">\n",
       "<h2>Sidebar Navigation Example</h2>\n",
       "<p>The sidebar with is set with \"style=\"width:25%\".</p>\n",
       "<p>The left margin of the page content is set to the same value.</p>\n",
       "</div>\n",
       "\n",
       "</div>\n",
       "      \n",
       "</body>\n",
       "</html>"
      ],
      "text/plain": [
       "<IPython.core.display.HTML object>"
      ]
     },
     "metadata": {},
     "output_type": "display_data"
    }
   ],
   "source": [
    "%%HTML\n",
    "<!DOCTYPE html>\n",
    "<html>\n",
    "<title>W3.CSS</title>\n",
    "<meta name=\"viewport\" content=\"width=device-width, initial-scale=1\">\n",
    "<link rel=\"stylesheet\" href=\"https://www.w3schools.com/w3css/4/w3.css\">\n",
    "<style>\n",
    ".container{\n",
    "    width: 98%;\n",
    "}\n",
    "</style>\n",
    "<body>\n",
    "\n",
    "<!-- Sidebar -->\n",
    "<div class=\"w3-sidebar w3-light-grey w3-bar-block\" style=\"width:25%; display:block; background-color:black;\">\n",
    "  <h3 class=\"w3-bar-item\">Menu</h3>\n",
    "    <span id=\"teste\">Teste</span>\n",
    "    <a href=\"#\" class=\"w3-bar-item w3-button\">Link 1</a>\n",
    "    <a href=\"#\" class=\"w3-bar-item w3-button\">Link 2</a>\n",
    "    <a href=\"#\" class=\"w3-bar-item w3-button\">Link 3</a>\n",
    "</div>\n",
    "\n",
    "<!-- Page Content -->\n",
    "<div style=\"margin-left:25%\">\n",
    "\n",
    "<div class=\"w3-container w3-teal\">\n",
    "  <h1>Jupyter Application</h1>\n",
    "</div>\n",
    "\n",
    "<img src=\"https://www.google.com/logos/google.jpg\" alt=\"Google\" style=\"width:100%\">\n",
    "\n",
    "<div class=\"w3-container\">\n",
    "<h2>Sidebar Navigation Example</h2>\n",
    "<p>The sidebar with is set with \"style=\"width:25%\".</p>\n",
    "<p>The left margin of the page content is set to the same value.</p>\n",
    "</div>\n",
    "\n",
    "</div>\n",
    "      \n",
    "</body>\n",
    "</html>"
   ]
  }
 ],
 "metadata": {
  "kernelspec": {
   "display_name": "Python 2",
   "language": "python2",
   "name": "python2"
  },
  "language_info": {
   "codemirror_mode": {
    "name": "ipython",
    "version": 2
   },
   "file_extension": ".py",
   "mimetype": "text/x-python",
   "name": "python",
   "nbconvert_exporter": "python",
   "pygments_lexer": "ipython2",
   "version": "2.7.14"
  }
 },
 "nbformat": 4,
 "nbformat_minor": 2
}
