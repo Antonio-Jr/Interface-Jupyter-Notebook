{
 "cells": [
  {
   "cell_type": "code",
   "execution_count": 3,
   "metadata": {
    "slideshow": {
     "slide_type": "slide"
    }
   },
   "outputs": [
    {
     "data": {
      "application/vnd.jupyter.widget-view+json": {
       "model_id": "29a9842642c44409af11363cb343fe47"
      }
     },
     "metadata": {},
     "output_type": "display_data"
    },
    {
     "data": {
      "application/vnd.jupyter.widget-view+json": {
       "model_id": "307be8e9970f4a1fbe4b2ec42c025d94"
      }
     },
     "metadata": {},
     "output_type": "display_data"
    }
   ],
   "source": [
    "from IPython.display import HTML, Javascript, display\n",
    "from ipywidgets import widgets as wg, Layout, HBox, VBox, Box\n",
    "\n",
    "i = 0\n",
    "button = []\n",
    "\n",
    "b = wg.Button(tooltip=\"Adicionar Novo Slider\",\n",
    "                #description = \"+\",\n",
    "                button_style = \"success\",\n",
    "                icon = 'plus',\n",
    "                layout = Layout(width='5%', height='30px', margin='20px', collor='green')\n",
    "             )\n",
    "b.style.button_color = 'navy'\n",
    "\n",
    "form = wg.Dropdown(options = ['apple', 'microsoft', 'samsung', 'motorola'],\n",
    "                   layout = Layout(width='60%', margin='40px'),\n",
    "                   description = 'Dropdown '\n",
    "                  )\n",
    "\n",
    "x = wg.IntSlider(min=0, max=10, step=1, value=0, description=\"Slider\", layout=Layout(width='65%', height= '30px', margin='20px'))\n",
    "x.style.handle_color = '#8B4513'\n",
    "t = wg.HBox([x, b])\n",
    "button.insert(i, t)\n",
    "vert = wg.VBox([t])\n",
    "\n",
    "def clicked(b):\n",
    "    global i \n",
    "    i = i + 1\n",
    "    intSlid = wg.IntSlider(min=0, max=10, step=1, value=0, description=\"Slider\",\n",
    "                           layout=Layout(width='65%', height= '30px', margin='20px')\n",
    "                          )\n",
    "    intSlid.style.handle_color = 'lightblue'\n",
    "    newButton = wg.Button(tooltip=\"Adicionar Novo Slider\", button_style = \"success\", icon = 'plus',\n",
    "                          layout = Layout(width='5%', height='30px', margin='20px', collor='green')\n",
    "                         )\n",
    "    \n",
    "    nBox = wg.HBox([intSlid, newButton])\n",
    "    button.insert(i, nBox)\n",
    "    global vert\n",
    "    for i in range(len(button)):\n",
    "        vert.children = ([i, nBox])\n",
    "    \n",
    "    \n",
    "display(t)\n",
    "display(form)\n",
    "b.on_click(clicked)"
   ]
  },
  {
   "cell_type": "code",
   "execution_count": 5,
   "metadata": {},
   "outputs": [
    {
     "ename": "SyntaxError",
     "evalue": "keyword can't be an expression (<ipython-input-5-acb096bb7254>, line 1)",
     "output_type": "error",
     "traceback": [
      "\u001b[1;36m  File \u001b[1;32m\"<ipython-input-5-acb096bb7254>\"\u001b[1;36m, line \u001b[1;32m1\u001b[0m\n\u001b[1;33m    timelineS(df, main = NA, xlab = NA, buffer.days = 600,\u001b[0m\n\u001b[1;37m                                       ^\u001b[0m\n\u001b[1;31mSyntaxError\u001b[0m\u001b[1;31m:\u001b[0m keyword can't be an expression\n"
     ]
    }
   ],
   "source": [
    "timelineS(df, main = NA, xlab = NA, buffer.days = 600,\n",
    "         line.width = 5, line.color = \"gray44\",\n",
    "         scale = \"year\", scale.format = \"%Y\", scale.font = 2, scale.orient = 1,\n",
    "         scale.above = FALSE, scale.cex = 1, scale.tickwidth = 2,\n",
    "         labels = paste(df[[1]], df[[2]]), label.direction = \"downup\",\n",
    "         label.length = c(0.5,0.5,0.8,0.8), label.position = c(1,3),\n",
    "         label.color = \"gray44\", label.cex = 0.8, label.font = 1, label.angle = 0,\n",
    "         pch = 20, point.cex = 1, point.color = \"gray44\")\n",
    "\n",
    "library(timelineS)\n",
    "\n",
    "### Default down-up labels\n",
    "timelineS(mj_life, main = \"Life of Michael Jackson\")\n",
    "\n",
    "### Labels above timeline and other change in aesthetics\n",
    "timelineS(mj_life, main = \"Life of Michael Jackson\", label.direction = \"up\", label.length = c(0.2,0.8,0.4,1.2), label.position = 3, line.color = \"blue\", label.color = \"blue\", point.color = \"blue\", pch = \"-\")"
   ]
  }
 ],
 "metadata": {
  "celltoolbar": "Raw Cell Format",
  "kernelspec": {
   "display_name": "Python 3",
   "language": "python",
   "name": "python3"
  },
  "language_info": {
   "codemirror_mode": {
    "name": "ipython",
    "version": 3
   },
   "file_extension": ".py",
   "mimetype": "text/x-python",
   "name": "python",
   "nbconvert_exporter": "python",
   "pygments_lexer": "ipython3",
   "version": "3.6.1"
  }
 },
 "nbformat": 4,
 "nbformat_minor": 2
}
