{
 "cells": [
  {
   "cell_type": "code",
   "execution_count": 4,
   "metadata": {
    "scrolled": true,
    "slideshow": {
     "slide_type": "slide"
    }
   },
   "outputs": [
    {
     "name": "stdout",
     "output_type": "stream",
     "text": [
      "Insira o nome da pasta que deseja abrir os logs: \n",
      "/home/junior/PycharmProjects/lia-pln-notebooks-master/ner-paramopama/log/eraldo/\n",
      "Voce está trabalhando agora no diretório /home/junior/PycharmProjects/lia-pln-notebooks-master/ner-paramopama/log/eraldo/. Este diretório possui 23 arquivos.\n"
     ]
    },
    {
     "data": {
      "application/vnd.jupyter.widget-view+json": {
       "model_id": "ef3079159805462ca1ade3615143df99",
       "version_major": 2,
       "version_minor": 0
      },
      "text/html": [
       "<p>Failed to display Jupyter Widget of type <code>ToggleButtons</code>.</p>\n",
       "<p>\n",
       "  If you're reading this message in Jupyter Notebook or JupyterLab, it may mean\n",
       "  that the widgets JavaScript is still loading. If this message persists, it\n",
       "  likely means that the widgets JavaScript library is either not installed or\n",
       "  not enabled. See the <a href=\"https://ipywidgets.readthedocs.io/en/stable/user_install.html\">Jupyter\n",
       "  Widgets Documentation</a> for setup instructions.\n",
       "</p>\n",
       "<p>\n",
       "  If you're reading this message in another notebook frontend (for example, a static\n",
       "  rendering on GitHub or <a href=\"https://nbviewer.jupyter.org/\">NBViewer</a>),\n",
       "  it may mean that your frontend doesn't currently support widgets.\n",
       "</p>\n"
      ],
      "text/plain": [
       "ToggleButtons(button_style=u'info', description=u'Learning Rate:', icons=[u'uncheck'], layout=Layout(display=u'wrap', flex_flow=u'column', width=u'20%'), options=(u'0.001', u'0.01'), style=ToggleButtonsStyle(description_width=u'initial'), tooltips=[u'Description of slow', u'Description of regular', u'Description of fast'], value=u'0.001')"
      ]
     },
     "metadata": {},
     "output_type": "display_data"
    }
   ],
   "source": [
    "# from IPython import display\n",
    "from ipywidgets import widgets as wg, Layout, HBox, VBox, Box, Label, Button, Dropdown, interactive\n",
    "%run -i ModulosNotebook/test_notebook.py \n",
    "style = {'description_width': 'initial'} \n",
    "print \"Voce está trabalhando agora no diretório \"+info+\". Este diretório possui \"+str(len(retorno))+\" arquivos.\"\n",
    "\n",
    "lay = Layout(display=\"wrap\", flex_flow=\"column\", align_itens=\"stretch\", width=\"20%\")\n",
    "t = wg.ToggleButtons(\n",
    "    options= b,\n",
    "    style = style,\n",
    "    description='Learning Rate:',\n",
    "    disabled=False,\n",
    "    button_style='info', # 'success', 'info', 'warning', 'danger' or ''\n",
    "    tooltips=['Description of slow', 'Description of regular', 'Description of fast'],\n",
    "    icons=['uncheck'],\n",
    "    layout = lay\n",
    ")\n",
    "\n",
    "def buscaArquivos(b):\n",
    "    print t.value\n",
    "    for i in range(len(retorno)):\n",
    "        try:\n",
    "            if cmp(t.value, retorno[i]['config']['lr']) == 0:\n",
    "                print retorno[i]['file']\n",
    "        except:\n",
    "            pass\n",
    "\n",
    "\n",
    "t.observe(buscaArquivos, names=\"value\")\n",
    "t"
   ]
  },
  {
   "cell_type": "code",
   "execution_count": null,
   "metadata": {
    "collapsed": true
   },
   "outputs": [],
   "source": []
  }
 ],
 "metadata": {
  "celltoolbar": "Raw Cell Format",
  "kernelspec": {
   "display_name": "Python 2",
   "language": "python2",
   "name": "python2"
  },
  "language_info": {
   "codemirror_mode": {
    "name": "ipython",
    "version": 2
   },
   "file_extension": ".py",
   "mimetype": "text/x-python",
   "name": "python",
   "nbconvert_exporter": "python",
   "pygments_lexer": "ipython2",
   "version": "2.7.14"
  }
 },
 "nbformat": 4,
 "nbformat_minor": 2
}
