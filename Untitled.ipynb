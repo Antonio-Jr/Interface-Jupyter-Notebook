{
 "cells": [
  {
   "cell_type": "code",
   "execution_count": 3,
   "metadata": {
    "scrolled": false
   },
   "outputs": [
    {
     "name": "stdout",
     "output_type": "stream",
     "text": [
      "log\n"
     ]
    },
    {
     "data": {
      "text/html": [
       "\n",
       "            <style> \n",
       "            /*.container{\n",
       "                    width: 98%;\n",
       "                }*/\n",
       "        \n",
       "            .output{\n",
       "                height:100%;\n",
       "                }\n",
       "        \n",
       "            .output_scroll{\n",
       "                height: 100%;\n",
       "                }\n",
       "        \n",
       "            .widget-label{\n",
       "                    height: 100px;\n",
       "                    white-space: wrap;\n",
       "                    font-weight: bold;\n",
       "                    font-size: 16px;\n",
       "                    text-align: left;\n",
       "                    }\n",
       "        \n",
       "            .widget-checkbox {\n",
       "                    width: 90%;\n",
       "                }\n",
       "        \n",
       "            .space{\n",
       "                text-align: left;\n",
       "                font-size: 13px;\n",
       "                }\n",
       "                \n",
       "            .space-checkBox{\n",
       "                text-align: left;\n",
       "                font-size: 13px;\n",
       "                margin-left: 3%;\n",
       "                }\n",
       "        \n",
       "            .vazio{\n",
       "                color: red;\n",
       "                font-size: 12px;\n",
       "                text-align: left;\n",
       "                }\n",
       "            \n",
       "            .center{\n",
       "                text-align: center;\n",
       "                font-size: 17px;\n",
       "                }\n",
       "                \n",
       "            .blue{\n",
       "                color: blue;\n",
       "                font-size: 11.5px;\n",
       "                }\n",
       "        \n",
       "            .vertical-line{\n",
       "                border-right: 1px groove black;\n",
       "                }\n",
       "        \n",
       "            .horizontal-line{\n",
       "                border-bottom: 1px groove black;\n",
       "                }\n",
       "        \n",
       "            .top-line{\n",
       "                border-top: 1px groove black;\n",
       "                }\n",
       "            .border{\n",
       "                border: 1px groove black;\n",
       "                border-radius: 5px;\n",
       "                }\n",
       "            </style>"
      ],
      "text/plain": [
       "<IPython.core.display.HTML object>"
      ]
     },
     "metadata": {},
     "output_type": "display_data"
    },
    {
     "data": {
      "application/vnd.jupyter.widget-view+json": {
       "model_id": "2f608d73d9e049199bfbd57986fddf0e",
       "version_major": 2,
       "version_minor": 0
      },
      "text/plain": [
       "A Jupyter Widget"
      ]
     },
     "metadata": {},
     "output_type": "display_data"
    },
    {
     "data": {
      "text/plain": [
       "'Os arquivos estao salvos na varivel finded. Para visualizar solicite a impressao da mesma. Caso queira exibir na caixa de dialogo, invoque o metodo exibeFiltrados.'"
      ]
     },
     "metadata": {},
     "output_type": "display_data"
    }
   ],
   "source": [
    "# encoding: utf-8\n",
    "from FilterPanel import BuildFilterPanel\n",
    "fp = BuildFilterPanel('log')"
   ]
  },
  {
   "cell_type": "code",
   "execution_count": 1,
   "metadata": {
    "collapsed": true
   },
   "outputs": [],
   "source": [
    "from RenderJson import RenderJSON\n",
    "\n",
    "teste =  {'macro': {'recall':\n",
    "            \"0.20686026936026936\", 'precision': 0.11738162212845757, 'f': 0.14977456404507988}, 'perLabel': {'truePositives': {'1': 0,\n",
    "            '3': 55, '2': 0,\n",
    "            '4': 21}, 'f': {'1': 0, '3': 0.291005291005291, '2': 0, '4': 0.28965517241379307},  'recall': {'1': 0.0,\n",
    "            '3': 0.5092592592592593,\n",
    "            '2': 0.0, '4': 0.3181818181818182}, 'precision': {'1': 0, '3': 0.2037037037037037, '2': 0, '4': 0.26582278481012656},\n",
    "            'falseNegatives': {'1': 4, '3': 53, '2': 4, '4': 45}, 'falsePositives': {'3': 215, '4': 58}}}"
   ]
  },
  {
   "cell_type": "code",
   "execution_count": 2,
   "metadata": {
    "scrolled": false
   },
   "outputs": [
    {
     "data": {
      "text/html": [
       "<div id=\"f6ac2720-ae5d-40c3-a58c-e107ad8319ec\" style=\"height: 600px; width:100%;\"></div>"
      ]
     },
     "metadata": {},
     "output_type": "display_data"
    },
    {
     "data": {
      "application/javascript": [
       "require([\"https://rawgit.com/caldwell/renderjson/master/renderjson.js\"], function() {document.getElementById('f6ac2720-ae5d-40c3-a58c-e107ad8319ec').appendChild(renderjson({\"macro\": {\"recall\": \"0.20686026936026936\", \"precision\": 0.11738162212845757, \"f\": 0.14977456404507988}, \"perLabel\": {\"truePositives\": {\"1\": 0, \"3\": 55, \"2\": 0, \"4\": 21}, \"f\": {\"1\": 0, \"3\": 0.291005291005291, \"2\": 0, \"4\": 0.28965517241379307}, \"recall\": {\"1\": 0.0, \"3\": 0.5092592592592593, \"2\": 0.0, \"4\": 0.3181818181818182}, \"precision\": {\"1\": 0, \"3\": 0.2037037037037037, \"2\": 0, \"4\": 0.26582278481012656}, \"falseNegatives\": {\"1\": 4, \"3\": 53, \"2\": 4, \"4\": 45}, \"falsePositives\": {\"3\": 215, \"4\": 58}}}))\n",
       "        });\n",
       "        "
      ]
     },
     "metadata": {},
     "output_type": "display_data"
    }
   ],
   "source": [
    "RenderJSON(teste)"
   ]
  }
 ],
 "metadata": {
  "kernelspec": {
   "display_name": "Python 2",
   "language": "python",
   "name": "python2"
  },
  "language_info": {
   "codemirror_mode": {
    "name": "ipython",
    "version": 2
   },
   "file_extension": ".py",
   "mimetype": "text/x-python",
   "name": "python",
   "nbconvert_exporter": "python",
   "pygments_lexer": "ipython2",
   "version": "2.7.14"
  }
 },
 "nbformat": 4,
 "nbformat_minor": 2
}
