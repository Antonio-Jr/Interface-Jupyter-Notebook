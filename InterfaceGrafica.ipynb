{
 "cells": [
  {
   "cell_type": "code",
   "execution_count": 2,
   "metadata": {},
   "outputs": [
    {
     "data": {
      "text/html": [
       "<style>\n",
       ".container{\n",
       "    width: 98%;\n",
       "    }\n",
       "\n",
       ".graph{\n",
       "    background-color: #00FF7F;\n",
       "    width: 100%;\n",
       "    text-align: middle;\n",
       "    border-radius: 5px;\n",
       "    font-size: 15pt;\n",
       "    font-style: bold;\n",
       "    color: white;\n",
       "    }\n",
       "\n",
       ".tab{\n",
       "    background-color: #87CEFF;\n",
       "    width: 100%;\n",
       "    text-align: middle;\n",
       "    border-radius: 5px;\n",
       "    font-size: 15pt;\n",
       "    font-style: bold;\n",
       "    color: white;\n",
       "    }\n",
       "</style>"
      ],
      "text/plain": [
       "<IPython.core.display.HTML object>"
      ]
     },
     "metadata": {},
     "output_type": "display_data"
    },
    {
     "data": {
      "application/vnd.jupyter.widget-view+json": {
       "model_id": "c02d5e1036b14f089120fcb6e15b793f",
       "version_major": 2,
       "version_minor": 0
      },
      "text/html": [
       "<p>Failed to display Jupyter Widget of type <code>Box</code>.</p>\n",
       "<p>\n",
       "  If you're reading this message in Jupyter Notebook or JupyterLab, it may mean\n",
       "  that the widgets JavaScript is still loading. If this message persists, it\n",
       "  likely means that the widgets JavaScript library is either not installed or\n",
       "  not enabled. See the <a href=\"https://ipywidgets.readthedocs.io/en/stable/user_install.html\">Jupyter\n",
       "  Widgets Documentation</a> for setup instructions.\n",
       "</p>\n",
       "<p>\n",
       "  If you're reading this message in another notebook frontend (for example, a static\n",
       "  rendering on GitHub or <a href=\"https://nbviewer.jupyter.org/\">NBViewer</a>),\n",
       "  it may mean that your frontend doesn't currently support widgets.\n",
       "</p>\n"
      ],
      "text/plain": [
       "Box(children=(Box(children=(Label(value=u'Please, say me the path of log files'), Text(value=u'', layout=Layout(width=u'70%'))), layout=Layout(display=u'flex', flex_flow=u'row', justify_content=u'space-between')), Box(children=(Label(value=u''), Button(description=u'Search', icon=u'search', layout=Layout(width=u'70%'), style=ButtonStyle())), layout=Layout(display=u'flex', flex_flow=u'row', justify_content=u'space-between')), Box(children=(Label(value=u'Found Files'), SelectMultiple(layout=Layout(height=u'500px', width=u'70%'), options=(), value=())), layout=Layout(display=u'flex', flex_flow=u'row', justify_content=u'space-between')), Box(children=(Label(value=u'Learning Rate'), FloatRangeSlider(value=(0.25, 0.75), layout=Layout(width=u'70%'), max=1.0, step=0.0001)), layout=Layout(display=u'flex', flex_flow=u'row', justify_content=u'space-between')), Box(children=(Label(value=u'Accuracy'), Dropdown(layout=Layout(width=u'70%'), options=('0', '1', '2', '3', '4', '5', '6', '7', '8', '9'), value='0')), layout=Layout(display=u'flex', flex_flow=u'row', justify_content=u'space-between')), Box(children=(Label(value=u'Epochs'), Dropdown(layout=Layout(width=u'70%'), options=('Scrambled', 'Sunny side up', 'Over easy'), value='Scrambled')), layout=Layout(display=u'flex', flex_flow=u'row', justify_content=u'space-between')), Box(children=(Label(value=u'WR'), Dropdown(layout=Layout(width=u'70%'), options=('Scrambled', 'Sunny side up', 'Over easy'), value='Scrambled')), layout=Layout(display=u'flex', flex_flow=u'row', justify_content=u'space-between')), Box(children=(Box(children=(Label(value=u''), Button(description=u'Plot Graph', style=ButtonStyle(), _dom_classes=('graph',))), layout=Layout(align_self=u'center')), Box(children=(Label(value=u''), Button(description=u'Make Table', style=ButtonStyle(), _dom_classes=('tab',))), layout=Layout(align_self=u'center'))), layout=Layout(align_items=u'center', align_self=u'center', display=u'flex-shrink', flex_flow=u'row', left=u'10%', top=u'30%', width=u'50%'))), layout=Layout(align_items=u'stretch', align_self=u'center', border=u'solid 1px white', display=u'flex-shrink', flex_flow=u'column', height=u'1100px', left=u'0.5%', width=u'99%'))"
      ]
     },
     "metadata": {},
     "output_type": "display_data"
    }
   ],
   "source": [
    "import os\n",
    "from IPython.display import HTML, Javascript, display\n",
    "from ipywidgets import widgets as wg, Layout, HBox, VBox, Box, Label, Button, Dropdown, interactive\n",
    "\n",
    "files = wg.SelectMultiple();\n",
    "files.layout.visibility = 'hidden'\n",
    "files.layout = Layout(width = '70%', height = '500px')\n",
    "files.options = ''\n",
    "\n",
    "def buscaArquivos(b):\n",
    "    \n",
    "    print (caminho.value)\n",
    "    files.options = encontraArquivosEmPastaRecursivamente(caminho.value, '.log')\n",
    "    if(files.options.count > 0):\n",
    "        files.layout = Layout(width = '70%', height = '500px')\n",
    "    \n",
    "\n",
    "caminho = wg.Text();\n",
    "caminho.layout = Layout(\n",
    "    width='70%'\n",
    ")\n",
    "form_item_layout = Layout(\n",
    "    display='flex',\n",
    "    flex_flow='row',\n",
    "    justify_content='space-between'\n",
    ")\n",
    "\n",
    "x = wg.Button(description='Search')\n",
    "x.icon = 'search'\n",
    "x.layout = Layout(width = '70%')\n",
    "graphButton = wg.Button(description='Plot Graph')\n",
    "tabButton = wg.Button(description='Make Table')\n",
    "\n",
    "z = wg.FloatRangeSlider(min = 0, max=1, value=0, step= 0.0001)\n",
    "z.layout.visibility = 'hidden'\n",
    "z.layout = Layout(width = '70%')\n",
    "\n",
    "y = wg.Dropdown()\n",
    "y.layout.visibility = 'hidden'\n",
    "y.layout = Layout(width = '70%')\n",
    "\n",
    "opt1 = wg.Dropdown(options=['Scrambled', 'Sunny side up', 'Over easy'])\n",
    "opt1.layout.visibility = 'hidden'\n",
    "opt1.layout = Layout(width = '70%')\n",
    "\n",
    "opt2 = Dropdown(options=['Scrambled', 'Sunny side up', 'Over easy'])\n",
    "opt2.layout.visibility = 'hidden'\n",
    "opt2.layout = Layout(width = '70%')\n",
    "\n",
    "j = []\n",
    "\n",
    "for k in range (10):\n",
    "    global j\n",
    "    j.append(str(k))\n",
    "    \n",
    "z.options = j\n",
    "y.options = j\n",
    "\n",
    "i = False\n",
    "\n",
    "def teste(btn):\n",
    "    global i\n",
    "    if i:\n",
    "        print(True)\n",
    "    else:\n",
    "        print(False)\n",
    "        \n",
    "manButtons = [\n",
    "     Box([Label(), graphButton], layout=Layout(align_self='center')),\n",
    "     Box([Label(), tabButton], layout=Layout(align_self='center'))\n",
    "]\n",
    "\n",
    "\n",
    "mainButton = Box(manButtons, layout=Layout(\n",
    "    display='flex-shrink',\n",
    "    flex_flow='row',\n",
    "    align_self='center',\n",
    "    width='50%',\n",
    "    top='30%',\n",
    "    left='10%',\n",
    "    align_items='center'\n",
    "))\n",
    "\n",
    "t = [wg.Label(value='Found Files'), files]\n",
    "#t.layout.visibility = 'hidden'   \n",
    "\n",
    "form_items = [\n",
    "    Box([Label(value='Please, say me the path of log files'), caminho], layout=form_item_layout),\n",
    "    Box([Label(value=''), x], layout=form_item_layout),\n",
    "    Box([Label(value='Found Files'), files], layout=form_item_layout),\n",
    "    Box([Label(value='Learning Rate'), z], layout=form_item_layout),\n",
    "    Box([Label(value='Accuracy'), y], layout=form_item_layout),\n",
    "    Box([Label(value='Epochs'), opt1], layout=form_item_layout),\n",
    "    Box([Label(value='WR'), opt2], layout=form_item_layout),\n",
    "    mainButton\n",
    "]\n",
    "\n",
    "def lab(change):\n",
    "    print change['new']\n",
    "    t = int(change['new']) + 1\n",
    "    if t < 10:\n",
    "        y.value = str(t)\n",
    "    else: \n",
    "        y.value = change['new']\n",
    "\n",
    "    \n",
    "#z.observe(lab, names=\"value\")\n",
    "\n",
    "form = Box(form_items,layout=Layout(\n",
    "    display='flex-shrink',\n",
    "    flex_flow='column',\n",
    "    align_self='center',\n",
    "    border='solid 1px white',\n",
    "    align_items='stretch',\n",
    "    width='99%',\n",
    "    height='1100px',\n",
    "    left='0.5%'\n",
    "))\n",
    "\n",
    "css = \"\"\"<style>\n",
    ".container{\n",
    "    width: 98%;\n",
    "    }\n",
    "\n",
    ".graph{\n",
    "    background-color: #00FF7F;\n",
    "    width: 100%;\n",
    "    text-align: middle;\n",
    "    border-radius: 5px;\n",
    "    font-size: 15pt;\n",
    "    font-style: bold;\n",
    "    color: white;\n",
    "    }\n",
    "\n",
    ".tab{\n",
    "    background-color: #87CEFF;\n",
    "    width: 100%;\n",
    "    text-align: middle;\n",
    "    border-radius: 5px;\n",
    "    font-size: 15pt;\n",
    "    font-style: bold;\n",
    "    color: white;\n",
    "    }\n",
    "</style>\"\"\"\n",
    "display(HTML(css))\n",
    "graphButton.remove_class\n",
    "graphButton.add_class('graph')\n",
    "tabButton.add_class('tab')\n",
    "x.on_click(buscaArquivos)\n",
    "\n",
    "display(form)"
   ]
  },
  {
   "cell_type": "code",
   "execution_count": 7,
   "metadata": {
    "collapsed": true
   },
   "outputs": [],
   "source": [
    "from IPython.core.magics.display import Javascript\n",
    "from IPython.core.display import display, HTML\n",
    "from string import Template\n",
    "from IPython.display import Javascript\n",
    "import json\n",
    "\n",
    "nodes = [\n",
    "        {'id': 1, 'label': 'Beyonce', 'group': 'United States'},\n",
    "        {'id': 2, 'label': 'Barak Obama', 'group': 'United States'},\n",
    "        {'id': 3, 'label': 'Miley Cyrus', 'group': 'United States'},\n",
    "        {'id': 4, 'label': 'Pope Francis', 'group': 'Vatican'},\n",
    "        {'id': 5, 'label': 'Vladimir Putin', 'group': 'Rusia'}\n",
    "]\n",
    "\n",
    "edges = [\n",
    "        {'from': 1, 'to': 2},\n",
    "        {'from': 1, 'to': 3},\n",
    "        {'from': 2, 'to': 4},\n",
    "        {'from': 2, 'to': 5}\n",
    "]\n",
    "\n",
    "# Transform the graph into a JSON graph\n",
    "data = {\"nodes\":nodes, \"edges\":edges}\n",
    "jsonGraph = json.dumps(data, indent=4)\n",
    "\n",
    "# Send to Javascript\n",
    "Javascript(\"\"\"window.jsonGraph={};\"\"\".format(jsonGraph));"
   ]
  },
  {
   "cell_type": "code",
   "execution_count": 4,
   "metadata": {},
   "outputs": [
    {
     "data": {
      "text/html": [
       "<div id=\"mynetwork\"></div>"
      ],
      "text/plain": [
       "<IPython.core.display.HTML object>"
      ]
     },
     "metadata": {},
     "output_type": "display_data"
    }
   ],
   "source": [
    "%%HTML\n",
    "<div id=\"mynetwork\"></div>"
   ]
  },
  {
   "cell_type": "code",
   "execution_count": 5,
   "metadata": {
    "collapsed": true
   },
   "outputs": [],
   "source": [
    "import ipywidgets as widgets\n",
    "from traitlets import Unicode , validate\n",
    "\n",
    "\n",
    "class HelloWidget ( widgets . DOMWidget ):\n",
    "     _view_name = Unicode ( 'HelloView' ) .  tag ( sync = True )\n",
    "     _view_module = Unicode ( 'hello' ) .  tag ( sync = True )\n",
    "     _view_module_version = Unicode ( '0.1.0' ) .  tag ( sync = True )"
   ]
  },
  {
   "cell_type": "code",
   "execution_count": 6,
   "metadata": {},
   "outputs": [
    {
     "data": {
      "application/javascript": [
       "require.undef('hello')\n",
       "\n",
       "define('hello', [\"@jupyter-widgets/base\"], function(widgets){\n",
       "    \n",
       "    // create a network\n",
       "    var container = document.getElementById('mynetwork');\n",
       "    var options = {\n",
       "        width: '800px',\n",
       "        height: '400px'\n",
       "    };\n",
       "    \n",
       "    // We load the JSON graph we generated from iPython input\n",
       "    var graph = window.jsonGraph;\n",
       "    \n",
       "    // Display Graph\n",
       "    var network = new widgets.Network(container, graph, options);\n",
       "});"
      ],
      "text/plain": [
       "<IPython.core.display.Javascript object>"
      ]
     },
     "metadata": {},
     "output_type": "display_data"
    }
   ],
   "source": [
    "%%javascript\n",
    "require.undef('hello')\n",
    "\n",
    "define('hello', [\"@jupyter-widgets/base\"], function(widgets){\n",
    "    \n",
    "    // create a network\n",
    "    var container = document.getElementById('mynetwork');\n",
    "    var options = {\n",
    "        width: '800px',\n",
    "        height: '400px'\n",
    "    };\n",
    "    \n",
    "    // We load the JSON graph we generated from iPython input\n",
    "    var graph = window.jsonGraph;\n",
    "    \n",
    "    // Display Graph\n",
    "    var network = new widgets.Network(container, graph, options);\n",
    "});\n"
   ]
  }
 ],
 "metadata": {
  "kernelspec": {
   "display_name": "Python 2",
   "language": "python2",
   "name": "python2"
  },
  "language_info": {
   "codemirror_mode": {
    "name": "ipython",
    "version": 2
   },
   "file_extension": ".py",
   "mimetype": "text/x-python",
   "name": "python",
   "nbconvert_exporter": "python",
   "pygments_lexer": "ipython2",
   "version": "2.7.14"
  }
 },
 "nbformat": 4,
 "nbformat_minor": 2
}
